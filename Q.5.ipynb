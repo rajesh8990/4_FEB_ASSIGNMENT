{
 "cells": [
  {
   "cell_type": "code",
   "execution_count": 2,
   "id": "69b0e22a-b405-4e3f-bfaf-025a36ad93a1",
   "metadata": {},
   "outputs": [
    {
     "name": "stdout",
     "output_type": "stream",
     "text": [
      "Palindromes nomber in the list : ['php', 'aba', 'radar', 'level']\n"
     ]
    }
   ],
   "source": [
    "\"\"\"\n",
    "Q.5 Write a python program to find palindromes in the given list of strings using \n",
    "    lambda and filter function.\n",
    "    ['python', 'php', 'aba', 'radar', 'level']\n",
    "\"\"\"\n",
    "\n",
    "# Define storing list\n",
    "string=['python', 'php', 'aba', 'radar', 'level']\n",
    "\n",
    "result=list(filter(lambda x:x==x[::-1],string))\n",
    "print(\"Palindromes nomber in the list :\",result)\n",
    "\n",
    "\n",
    "\n"
   ]
  }
 ],
 "metadata": {
  "kernelspec": {
   "display_name": "Python 3 (ipykernel)",
   "language": "python",
   "name": "python3"
  },
  "language_info": {
   "codemirror_mode": {
    "name": "ipython",
    "version": 3
   },
   "file_extension": ".py",
   "mimetype": "text/x-python",
   "name": "python",
   "nbconvert_exporter": "python",
   "pygments_lexer": "ipython3",
   "version": "3.10.8"
  }
 },
 "nbformat": 4,
 "nbformat_minor": 5
}
