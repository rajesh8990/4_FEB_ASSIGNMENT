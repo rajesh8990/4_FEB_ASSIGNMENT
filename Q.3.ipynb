{
 "cells": [
  {
   "cell_type": "code",
   "execution_count": 2,
   "id": "eef5be6f-973f-4c69-8688-d6d1ab28514e",
   "metadata": {},
   "outputs": [
    {
     "name": "stdout",
     "output_type": "stream",
     "text": [
      "('1', '2', '3', '4', '5', '6', '7', '8', '9', '10')\n"
     ]
    }
   ],
   "source": [
    "\"\"\"\n",
    "Q.3 Write a python program to convert the given list of integers into a tuple of strings.\n",
    "   Use map and lambda functions \"\"\"\n",
    "\n",
    "\n",
    "\n",
    "l=[1, 2, 3, 4, 5, 6, 7, 8, 9, 10]\n",
    "p=tuple(map(lambda x:str(x),l))\n",
    "print(p)"
   ]
  },
  {
   "cell_type": "code",
   "execution_count": null,
   "id": "f3f1228c-4caf-40cd-8968-e7b496981b0a",
   "metadata": {},
   "outputs": [],
   "source": []
  }
 ],
 "metadata": {
  "kernelspec": {
   "display_name": "Python 3 (ipykernel)",
   "language": "python",
   "name": "python3"
  },
  "language_info": {
   "codemirror_mode": {
    "name": "ipython",
    "version": 3
   },
   "file_extension": ".py",
   "mimetype": "text/x-python",
   "name": "python",
   "nbconvert_exporter": "python",
   "pygments_lexer": "ipython3",
   "version": "3.10.8"
  }
 },
 "nbformat": 4,
 "nbformat_minor": 5
}
