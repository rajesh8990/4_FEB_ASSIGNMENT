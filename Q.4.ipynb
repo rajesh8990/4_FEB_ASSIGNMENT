{
 "cells": [
  {
   "cell_type": "code",
   "execution_count": 16,
   "id": "83563f26-cc52-469a-846f-3592d78a1a71",
   "metadata": {},
   "outputs": [
    {
     "name": "stdout",
     "output_type": "stream",
     "text": [
      "15511210043330985984000000\n"
     ]
    }
   ],
   "source": [
    "\"\"\"\n",
    "Q.4 Write a python program using reduce function to compute the product of a list \n",
    "    containing numbers from 1 to 25.\n",
    "\"\"\"\n",
    "# call reduce function\n",
    "from functools import reduce \n",
    "contain=[i for i in range(1,26)]\n",
    "result=reduce(lambda x,y:x*y,contain)\n",
    "              \n",
    "print(result)"
   ]
  },
  {
   "cell_type": "code",
   "execution_count": null,
   "id": "63a84dcf-360b-4876-96e1-24ed9c77a16d",
   "metadata": {},
   "outputs": [],
   "source": []
  }
 ],
 "metadata": {
  "kernelspec": {
   "display_name": "Python 3 (ipykernel)",
   "language": "python",
   "name": "python3"
  },
  "language_info": {
   "codemirror_mode": {
    "name": "ipython",
    "version": 3
   },
   "file_extension": ".py",
   "mimetype": "text/x-python",
   "name": "python",
   "nbconvert_exporter": "python",
   "pygments_lexer": "ipython3",
   "version": "3.10.8"
  }
 },
 "nbformat": 4,
 "nbformat_minor": 5
}
